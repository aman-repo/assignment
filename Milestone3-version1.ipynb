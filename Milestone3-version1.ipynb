{
 "cells": [
  {
   "cell_type": "code",
   "execution_count": 12,
   "id": "66ed530c",
   "metadata": {},
   "outputs": [],
   "source": [
    "from pyspark.sql import SparkSession \n",
    "\n",
    "spark = SparkSession \\\n",
    "        .builder \\\n",
    "        .appName(\"milestone3\") \\\n",
    "        .getOrCreate()"
   ]
  },
  {
   "cell_type": "code",
   "execution_count": 13,
   "id": "57b701fe",
   "metadata": {},
   "outputs": [
    {
     "name": "stderr",
     "output_type": "stream",
     "text": [
      "                                                                                \r"
     ]
    }
   ],
   "source": [
    "\n",
    "\n",
    "\n",
    "df_navhistory = spark.read.option(\"header\", True).option(\"inferschema\", True).csv(\"/Users/epareek/Desktop/Data 3/NavHistory.csv\")"
   ]
  },
  {
   "cell_type": "code",
   "execution_count": 14,
   "id": "f3bf0d45",
   "metadata": {},
   "outputs": [
    {
     "name": "stdout",
     "output_type": "stream",
     "text": [
      "+------+-------------------+------+----------------+----------+\n",
      "|  code|           nav_date|   nav|repurchase_price|sale_price|\n",
      "+------+-------------------+------+----------------+----------+\n",
      "|120373|2018-12-03 00:00:00|688138|               0|         0|\n",
      "|120373|2018-12-04 00:00:00|686524|               0|         0|\n",
      "|120373|2018-12-05 00:00:00|681853|               0|         0|\n",
      "|120373|2018-12-06 00:00:00|674551|               0|         0|\n",
      "|120373|2018-12-07 00:00:00|680586|               0|         0|\n",
      "|120373|2018-12-10 00:00:00|669715|               0|         0|\n",
      "|120373|2018-12-11 00:00:00|672952|               0|         0|\n",
      "|120373|2018-12-12 00:00:00|685970|               0|         0|\n",
      "|120373|2018-12-13 00:00:00|690027|               0|         0|\n",
      "|120373|2018-12-14 00:00:00|691042|               0|         0|\n",
      "|120373|2018-12-17 00:00:00|695260|               0|         0|\n",
      "|120373|2018-12-18 00:00:00|699280|               0|         0|\n",
      "|120373|2018-12-19 00:00:00|706902|               0|         0|\n",
      "|120373|2018-12-20 00:00:00|704411|               0|         0|\n",
      "|120373|2018-12-21 00:00:00|695366|               0|         0|\n",
      "|120373|2018-12-24 00:00:00|690923|               0|         0|\n",
      "|120373|2018-12-26 00:00:00|695520|               0|         0|\n",
      "|120373|2018-12-27 00:00:00|695310|               0|         0|\n",
      "|120373|2018-12-28 00:00:00|701676|               0|         0|\n",
      "|120373|2018-12-31 00:00:00|702966|               0|         0|\n",
      "+------+-------------------+------+----------------+----------+\n",
      "only showing top 20 rows\n",
      "\n"
     ]
    }
   ],
   "source": [
    "df_navhistory.show()"
   ]
  },
  {
   "cell_type": "code",
   "execution_count": 10,
   "id": "90f2a465",
   "metadata": {},
   "outputs": [],
   "source": [
    "df_navhistory.createOrReplaceTempView(\"nav_data\")"
   ]
  },
  {
   "cell_type": "code",
   "execution_count": 11,
   "id": "21900df1",
   "metadata": {},
   "outputs": [
    {
     "name": "stderr",
     "output_type": "stream",
     "text": [
      "                                                                                \r"
     ]
    },
    {
     "name": "stdout",
     "output_type": "stream",
     "text": [
      "+------+-------------------+--------+----------------+----------+\n",
      "|  code|           nav_date|     nav|repurchase_price|sale_price|\n",
      "+------+-------------------+--------+----------------+----------+\n",
      "|146677|2021-01-31 00:00:00|10013641|               0|         0|\n",
      "|147948|2021-01-31 00:00:00|10026659|               0|         0|\n",
      "|146676|2021-01-31 00:00:00|10012187|               0|         0|\n",
      "|145486|2021-01-31 00:00:00|11074440|               0|         0|\n",
      "|146682|2021-01-31 00:00:00|10005032|               0|         0|\n",
      "|145489|2021-01-31 00:00:00|10001900|               0|         0|\n",
      "|146678|2021-01-31 00:00:00|10813217|               0|         0|\n",
      "|145487|2021-01-31 00:00:00|10000200|               0|         0|\n",
      "|146681|2021-01-31 00:00:00|10013451|               0|         0|\n",
      "|145481|2021-01-31 00:00:00|11042880|               0|         0|\n",
      "|146680|2021-01-31 00:00:00|10011818|               0|         0|\n",
      "|146675|2021-01-31 00:00:00|10825308|               0|         0|\n",
      "|147197|2021-01-31 00:00:00|10000000|               0|         0|\n",
      "|147198|2021-01-31 00:00:00|10005071|               0|         0|\n",
      "|147952|2021-01-31 00:00:00|10000000|               0|         0|\n",
      "|147127|2021-01-31 00:00:00|10000000|               0|         0|\n",
      "|145488|2021-01-31 00:00:00|10001921|               0|         0|\n",
      "|147125|2021-01-31 00:00:00|10779124|               0|         0|\n",
      "|145485|2021-01-31 00:00:00|10001869|               0|         0|\n",
      "|147126|2021-01-31 00:00:00|10002579|               0|         0|\n",
      "+------+-------------------+--------+----------------+----------+\n",
      "only showing top 20 rows\n",
      "\n"
     ]
    }
   ],
   "source": [
    "df_navdata= spark.sql(\"select * from nav_data order by nav_date desc\").show()"
   ]
  },
  {
   "cell_type": "code",
   "execution_count": 15,
   "id": "2bcd2a70",
   "metadata": {},
   "outputs": [],
   "source": [
    "import warnings                                  # `do not disturbe` mode\n",
    "warnings.filterwarnings('ignore')"
   ]
  },
  {
   "cell_type": "code",
   "execution_count": 16,
   "id": "12f60721",
   "metadata": {},
   "outputs": [],
   "source": [
    "from handyspark import *"
   ]
  },
  {
   "cell_type": "code",
   "execution_count": 17,
   "id": "dafbfa10",
   "metadata": {},
   "outputs": [],
   "source": [
    "\n",
    "\n",
    "\n",
    "df_mutual = spark.read.option(\"header\", True).option(\"inferschema\", True).csv(\"/Users/epareek/Desktop/Data 3/MutualFund.csv\")"
   ]
  },
  {
   "cell_type": "code",
   "execution_count": 18,
   "id": "1c748f2a",
   "metadata": {},
   "outputs": [
    {
     "name": "stdout",
     "output_type": "stream",
     "text": [
      "+------+------+-----------+--------------------+------------+--------------------+--------------------------+\n",
      "|  code|amc_id|category_id|                name| isin_growth|isin_dividend_payout|isin_dividend_reinvestment|\n",
      "+------+------+-----------+--------------------+------------+--------------------+--------------------------+\n",
      "|120373|     1|          1|SAHARA BANKING & ...|INF515L01AJ6|        INF515L01AJ6|                      null|\n",
      "|109493|     1|          1|SAHARA BANKING & ...|INF515L01494|        INF515L01494|                      null|\n",
      "|120374|     1|          1|SAHARA BANKING & ...|INF515L01AH0|        INF515L01AH0|              INF515L01AI8|\n",
      "|109494|     1|          1|SAHARA BANKING & ...|INF515L01478|        INF515L01478|              INF515L01486|\n",
      "|101529|     1|          1|Sahara Growth Fun...|INF515L01155|        INF515L01155|              INF515L01163|\n",
      "|120288|     1|          1|Sahara Growth Fun...|INF515L01759|        INF515L01759|              INF515L01767|\n",
      "|101528|     1|          1|Sahara Growth Fun...|INF515L01171|        INF515L01171|                      null|\n",
      "|120289|     1|          1|Sahara Growth Fun...|INF515L01775|        INF515L01775|                      null|\n",
      "|120352|     1|          1|Sahara Infrastruc...|INF515L01924|        INF515L01924|              INF515L01932|\n",
      "|120353|     1|          1|Sahara Infrastruc...|INF515L01940|        INF515L01940|                      null|\n",
      "|103730|     1|          1|Sahara Infrastruc...|INF515L01320|        INF515L01320|              INF515L01338|\n",
      "|103731|     1|          1|Sahara Infrastruc...|INF515L01346|        INF515L01346|                      null|\n",
      "|120354|     1|          1|Sahara Infrastruc...|INF515L01957|        INF515L01957|              INF515L01965|\n",
      "|120355|     1|          1|Sahara Infrastruc...|INF515L01973|        INF515L01973|                      null|\n",
      "|103732|     1|          1|Sahara Infrastruc...|INF515L01353|        INF515L01353|              INF515L01361|\n",
      "|103733|     1|          1|Sahara Infrastruc...|INF515L01379|        INF515L01379|                      null|\n",
      "|100798|     1|          1|Sahara Midcap Fun...|INF515L01247|        INF515L01247|                      null|\n",
      "|120295|     1|          1|Sahara Midcap Fun...|INF515L01841|        INF515L01841|                      null|\n",
      "|100799|     1|          1|Sahara Midcap Fun...|INF515L01254|        INF515L01254|                      null|\n",
      "|120296|     1|          1|Sahara Midcap Fun...|INF515L01858|        INF515L01858|                      null|\n",
      "+------+------+-----------+--------------------+------------+--------------------+--------------------------+\n",
      "only showing top 20 rows\n",
      "\n"
     ]
    }
   ],
   "source": [
    "df_mutual.show()"
   ]
  },
  {
   "cell_type": "code",
   "execution_count": 94,
   "id": "047dfb0d",
   "metadata": {},
   "outputs": [],
   "source": [
    "\n",
    "\n",
    "df_per = df_navhistory.join(df_mutual,df_navhistory.code == df_mutual.code,\"inner\")\n",
    "\n",
    "df_per.createOrReplaceTempView(\"perf_data\")\n",
    "\n",
    "\n"
   ]
  },
  {
   "cell_type": "code",
   "execution_count": 44,
   "id": "edf81037",
   "metadata": {},
   "outputs": [
    {
     "name": "stderr",
     "output_type": "stream",
     "text": [
      "[Stage 56:=======>                                                  (1 + 7) / 8]\r"
     ]
    },
    {
     "name": "stdout",
     "output_type": "stream",
     "text": [
      "Row(max(nav_date)=datetime.datetime(2021, 1, 31, 0, 0))\n"
     ]
    },
    {
     "name": "stderr",
     "output_type": "stream",
     "text": [
      "\r",
      "                                                                                \r"
     ]
    }
   ],
   "source": [
    "row1 = df_per.agg({\"nav_date\": \"max\"}).collect()[0]\n",
    "\n",
    "print(row1)\n"
   ]
  },
  {
   "cell_type": "code",
   "execution_count": 45,
   "id": "bf96aa1b",
   "metadata": {},
   "outputs": [
    {
     "name": "stderr",
     "output_type": "stream",
     "text": [
      "[Stage 60:=======>                                                  (1 + 7) / 8]\r"
     ]
    },
    {
     "name": "stdout",
     "output_type": "stream",
     "text": [
      "Row(min(nav_date)=datetime.datetime(2018, 12, 1, 0, 0))\n"
     ]
    },
    {
     "name": "stderr",
     "output_type": "stream",
     "text": [
      "\r",
      "                                                                                \r"
     ]
    }
   ],
   "source": [
    "row2 = df_per.agg({\"nav_date\": \"min\"}).collect()[0]\n",
    "\n",
    "print(row2)\n"
   ]
  },
  {
   "cell_type": "code",
   "execution_count": 78,
   "id": "f31996d1",
   "metadata": {},
   "outputs": [
    {
     "name": "stderr",
     "output_type": "stream",
     "text": [
      "[Stage 98:=============================>                            (4 + 4) / 8]\r"
     ]
    },
    {
     "name": "stdout",
     "output_type": "stream",
     "text": [
      "+-------------------+-------------------+--------------------+\n",
      "|       max_day_year|       min_day_year|                name|\n",
      "+-------------------+-------------------+--------------------+\n",
      "|2019-12-31 00:00:00|2019-01-01 00:00:00|Sahara Growth Fun...|\n",
      "|2019-12-31 00:00:00|2019-01-01 00:00:00|Edelweiss Large &...|\n",
      "|2019-12-31 00:00:00|2019-01-01 00:00:00|Invesco India Gro...|\n",
      "|2019-12-31 00:00:00|2019-01-01 00:00:00|Principal Focused...|\n",
      "|2019-12-31 00:00:00|2019-01-01 00:00:00|Sundaram Select F...|\n",
      "|2019-12-31 00:00:00|2019-01-02 00:00:00|ICICI Prudential ...|\n",
      "|2019-12-31 00:00:00|2019-01-01 00:00:00|UTI India Consume...|\n",
      "|2019-12-31 00:00:00|2019-01-01 00:00:00|Aditya Birla Sun ...|\n",
      "|2019-12-31 00:00:00|2019-01-01 00:00:00|BOI AXA Liquid Fu...|\n",
      "|2019-12-31 00:00:00|2019-01-01 00:00:00|Invesco India Liq...|\n",
      "|2019-12-31 00:00:00|2019-01-01 00:00:00|Mirae Asset Cash ...|\n",
      "|2019-12-31 00:00:00|2019-01-17 00:00:00|YES Liquid Fund- ...|\n",
      "|2019-12-31 00:00:00|2019-01-01 00:00:00|Axis Ultra Short ...|\n",
      "|2019-12-31 00:00:00|2019-01-01 00:00:00|Essel Ultra Short...|\n",
      "|2019-12-31 00:00:00|2019-01-01 00:00:00|UTI MMF- Disconti...|\n",
      "|2019-12-31 00:00:00|2019-01-01 00:00:00|Invesco India Sho...|\n",
      "|2019-12-31 00:00:00|2019-01-01 00:00:00|DSP Strategic Bon...|\n",
      "|2019-12-31 00:00:00|2019-01-01 00:00:00|JM Dynamic Debt F...|\n",
      "|2019-12-31 00:00:00|2019-01-01 00:00:00|Axis Corporate De...|\n",
      "|2019-12-31 00:00:00|2019-01-01 00:00:00|Edelweiss Corpora...|\n",
      "+-------------------+-------------------+--------------------+\n",
      "only showing top 20 rows\n",
      "\n"
     ]
    },
    {
     "name": "stderr",
     "output_type": "stream",
     "text": [
      "\r",
      "                                                                                \r"
     ]
    }
   ],
   "source": [
    "df_mp = spark.sql(\"select max(nav_date) as max_day_year,min(nav_date) as min_day_year , \\\n",
    "                         name from perf_data where year(nav_date) = 2019 group by name  \").show()\n",
    "\n",
    "#df_mp.createOrReplaceTempView(\"mp_data\")"
   ]
  },
  {
   "cell_type": "code",
   "execution_count": 103,
   "id": "e37d6241",
   "metadata": {},
   "outputs": [
    {
     "ename": "AnalysisException",
     "evalue": "cannot resolve '(perf_data.nav_date = ((2018 - 12) - 12))' due to data type mismatch: differing types in '(perf_data.nav_date = ((2018 - 12) - 12))' (timestamp and int).; line 1 pos 189;\n'Project ['nav, 'nav_date]\n+- 'Filter nav#203L IN (list#2331 [])\n   :  +- 'Project ['nav]\n   :     +- 'Filter (nav_date#2347 = scalar-subquery#2330 [])\n   :        :  +- 'Project ['perf_data.nav_date]\n   :        :     +- 'Filter (nav_date#2333 = ((2018 - 12) - 12))\n   :        :        +- SubqueryAlias perf_data\n   :        :           +- View (`perf_data`, [code#2332,nav_date#2333,nav#2334L,repurchase_price#2335,sale_price#2336,code#2337,amc_id#2338,category_id#2339,name#2340,isin_growth#2341,isin_dividend_payout#2342,isin_dividend_reinvestment#2343])\n   :        :              +- Join Inner, (code#2332 = code#2337)\n   :        :                 :- Relation [code#2332,nav_date#2333,nav#2334L,repurchase_price#2335,sale_price#2336] csv\n   :        :                 +- Relation [code#2337,amc_id#2338,category_id#2339,name#2340,isin_growth#2341,isin_dividend_payout#2342,isin_dividend_reinvestment#2343] csv\n   :        +- SubqueryAlias perf_data\n   :           +- View (`perf_data`, [code#2346,nav_date#2347,nav#2348L,repurchase_price#2349,sale_price#2350,code#2351,amc_id#2352,category_id#2353,name#2354,isin_growth#2355,isin_dividend_payout#2356,isin_dividend_reinvestment#2357])\n   :              +- Join Inner, (code#2346 = code#2351)\n   :                 :- Relation [code#2346,nav_date#2347,nav#2348L,repurchase_price#2349,sale_price#2350] csv\n   :                 +- Relation [code#2351,amc_id#2352,category_id#2353,name#2354,isin_growth#2355,isin_dividend_payout#2356,isin_dividend_reinvestment#2357] csv\n   +- SubqueryAlias perf_data\n      +- View (`perf_data`, [code#201,nav_date#202,nav#203L,repurchase_price#204,sale_price#205,code#255,amc_id#256,category_id#257,name#258,isin_growth#259,isin_dividend_payout#260,isin_dividend_reinvestment#261])\n         +- Join Inner, (code#201 = code#255)\n            :- Relation [code#201,nav_date#202,nav#203L,repurchase_price#204,sale_price#205] csv\n            +- Relation [code#255,amc_id#256,category_id#257,name#258,isin_growth#259,isin_dividend_payout#260,isin_dividend_reinvestment#261] csv\n",
     "output_type": "error",
     "traceback": [
      "\u001b[0;31m---------------------------------------------------------------------------\u001b[0m",
      "\u001b[0;31mAnalysisException\u001b[0m                         Traceback (most recent call last)",
      "Input \u001b[0;32mIn [103]\u001b[0m, in \u001b[0;36m<cell line: 1>\u001b[0;34m()\u001b[0m\n\u001b[0;32m----> 1\u001b[0m df_performance \u001b[38;5;241m=\u001b[39m \u001b[43mspark\u001b[49m\u001b[38;5;241;43m.\u001b[39;49m\u001b[43msql\u001b[49m\u001b[43m(\u001b[49m\u001b[38;5;124;43m\"\u001b[39;49m\u001b[38;5;124;43mselect nav, nav_date from perf_data where nav IN \u001b[39;49m\u001b[38;5;130;43;01m\\\u001b[39;49;00m\n\u001b[1;32m      2\u001b[0m \u001b[38;5;124;43m                     (select nav from perf_data where nav_date = \u001b[39;49m\u001b[38;5;130;43;01m\\\u001b[39;49;00m\n\u001b[1;32m      3\u001b[0m \u001b[38;5;124;43m                           (select perf_data.nav_date from perf_data where nav_date = 2018-12-12))\u001b[39;49m\u001b[38;5;124;43m\"\u001b[39;49m\u001b[43m)\u001b[49m\u001b[38;5;241m.\u001b[39mshow()\n",
      "File \u001b[0;32m/usr/local/lib/python3.9/site-packages/pyspark/sql/session.py:1034\u001b[0m, in \u001b[0;36mSparkSession.sql\u001b[0;34m(self, sqlQuery, **kwargs)\u001b[0m\n\u001b[1;32m   1032\u001b[0m     sqlQuery \u001b[38;5;241m=\u001b[39m formatter\u001b[38;5;241m.\u001b[39mformat(sqlQuery, \u001b[38;5;241m*\u001b[39m\u001b[38;5;241m*\u001b[39mkwargs)\n\u001b[1;32m   1033\u001b[0m \u001b[38;5;28;01mtry\u001b[39;00m:\n\u001b[0;32m-> 1034\u001b[0m     \u001b[38;5;28;01mreturn\u001b[39;00m DataFrame(\u001b[38;5;28;43mself\u001b[39;49m\u001b[38;5;241;43m.\u001b[39;49m\u001b[43m_jsparkSession\u001b[49m\u001b[38;5;241;43m.\u001b[39;49m\u001b[43msql\u001b[49m\u001b[43m(\u001b[49m\u001b[43msqlQuery\u001b[49m\u001b[43m)\u001b[49m, \u001b[38;5;28mself\u001b[39m)\n\u001b[1;32m   1035\u001b[0m \u001b[38;5;28;01mfinally\u001b[39;00m:\n\u001b[1;32m   1036\u001b[0m     \u001b[38;5;28;01mif\u001b[39;00m \u001b[38;5;28mlen\u001b[39m(kwargs) \u001b[38;5;241m>\u001b[39m \u001b[38;5;241m0\u001b[39m:\n",
      "File \u001b[0;32m/usr/local/lib/python3.9/site-packages/py4j/java_gateway.py:1321\u001b[0m, in \u001b[0;36mJavaMember.__call__\u001b[0;34m(self, *args)\u001b[0m\n\u001b[1;32m   1315\u001b[0m command \u001b[38;5;241m=\u001b[39m proto\u001b[38;5;241m.\u001b[39mCALL_COMMAND_NAME \u001b[38;5;241m+\u001b[39m\\\n\u001b[1;32m   1316\u001b[0m     \u001b[38;5;28mself\u001b[39m\u001b[38;5;241m.\u001b[39mcommand_header \u001b[38;5;241m+\u001b[39m\\\n\u001b[1;32m   1317\u001b[0m     args_command \u001b[38;5;241m+\u001b[39m\\\n\u001b[1;32m   1318\u001b[0m     proto\u001b[38;5;241m.\u001b[39mEND_COMMAND_PART\n\u001b[1;32m   1320\u001b[0m answer \u001b[38;5;241m=\u001b[39m \u001b[38;5;28mself\u001b[39m\u001b[38;5;241m.\u001b[39mgateway_client\u001b[38;5;241m.\u001b[39msend_command(command)\n\u001b[0;32m-> 1321\u001b[0m return_value \u001b[38;5;241m=\u001b[39m \u001b[43mget_return_value\u001b[49m\u001b[43m(\u001b[49m\n\u001b[1;32m   1322\u001b[0m \u001b[43m    \u001b[49m\u001b[43manswer\u001b[49m\u001b[43m,\u001b[49m\u001b[43m \u001b[49m\u001b[38;5;28;43mself\u001b[39;49m\u001b[38;5;241;43m.\u001b[39;49m\u001b[43mgateway_client\u001b[49m\u001b[43m,\u001b[49m\u001b[43m \u001b[49m\u001b[38;5;28;43mself\u001b[39;49m\u001b[38;5;241;43m.\u001b[39;49m\u001b[43mtarget_id\u001b[49m\u001b[43m,\u001b[49m\u001b[43m \u001b[49m\u001b[38;5;28;43mself\u001b[39;49m\u001b[38;5;241;43m.\u001b[39;49m\u001b[43mname\u001b[49m\u001b[43m)\u001b[49m\n\u001b[1;32m   1324\u001b[0m \u001b[38;5;28;01mfor\u001b[39;00m temp_arg \u001b[38;5;129;01min\u001b[39;00m temp_args:\n\u001b[1;32m   1325\u001b[0m     temp_arg\u001b[38;5;241m.\u001b[39m_detach()\n",
      "File \u001b[0;32m/usr/local/lib/python3.9/site-packages/pyspark/sql/utils.py:196\u001b[0m, in \u001b[0;36mcapture_sql_exception.<locals>.deco\u001b[0;34m(*a, **kw)\u001b[0m\n\u001b[1;32m    192\u001b[0m converted \u001b[38;5;241m=\u001b[39m convert_exception(e\u001b[38;5;241m.\u001b[39mjava_exception)\n\u001b[1;32m    193\u001b[0m \u001b[38;5;28;01mif\u001b[39;00m \u001b[38;5;129;01mnot\u001b[39;00m \u001b[38;5;28misinstance\u001b[39m(converted, UnknownException):\n\u001b[1;32m    194\u001b[0m     \u001b[38;5;66;03m# Hide where the exception came from that shows a non-Pythonic\u001b[39;00m\n\u001b[1;32m    195\u001b[0m     \u001b[38;5;66;03m# JVM exception message.\u001b[39;00m\n\u001b[0;32m--> 196\u001b[0m     \u001b[38;5;28;01mraise\u001b[39;00m converted \u001b[38;5;28;01mfrom\u001b[39;00m \u001b[38;5;28mNone\u001b[39m\n\u001b[1;32m    197\u001b[0m \u001b[38;5;28;01melse\u001b[39;00m:\n\u001b[1;32m    198\u001b[0m     \u001b[38;5;28;01mraise\u001b[39;00m\n",
      "\u001b[0;31mAnalysisException\u001b[0m: cannot resolve '(perf_data.nav_date = ((2018 - 12) - 12))' due to data type mismatch: differing types in '(perf_data.nav_date = ((2018 - 12) - 12))' (timestamp and int).; line 1 pos 189;\n'Project ['nav, 'nav_date]\n+- 'Filter nav#203L IN (list#2331 [])\n   :  +- 'Project ['nav]\n   :     +- 'Filter (nav_date#2347 = scalar-subquery#2330 [])\n   :        :  +- 'Project ['perf_data.nav_date]\n   :        :     +- 'Filter (nav_date#2333 = ((2018 - 12) - 12))\n   :        :        +- SubqueryAlias perf_data\n   :        :           +- View (`perf_data`, [code#2332,nav_date#2333,nav#2334L,repurchase_price#2335,sale_price#2336,code#2337,amc_id#2338,category_id#2339,name#2340,isin_growth#2341,isin_dividend_payout#2342,isin_dividend_reinvestment#2343])\n   :        :              +- Join Inner, (code#2332 = code#2337)\n   :        :                 :- Relation [code#2332,nav_date#2333,nav#2334L,repurchase_price#2335,sale_price#2336] csv\n   :        :                 +- Relation [code#2337,amc_id#2338,category_id#2339,name#2340,isin_growth#2341,isin_dividend_payout#2342,isin_dividend_reinvestment#2343] csv\n   :        +- SubqueryAlias perf_data\n   :           +- View (`perf_data`, [code#2346,nav_date#2347,nav#2348L,repurchase_price#2349,sale_price#2350,code#2351,amc_id#2352,category_id#2353,name#2354,isin_growth#2355,isin_dividend_payout#2356,isin_dividend_reinvestment#2357])\n   :              +- Join Inner, (code#2346 = code#2351)\n   :                 :- Relation [code#2346,nav_date#2347,nav#2348L,repurchase_price#2349,sale_price#2350] csv\n   :                 +- Relation [code#2351,amc_id#2352,category_id#2353,name#2354,isin_growth#2355,isin_dividend_payout#2356,isin_dividend_reinvestment#2357] csv\n   +- SubqueryAlias perf_data\n      +- View (`perf_data`, [code#201,nav_date#202,nav#203L,repurchase_price#204,sale_price#205,code#255,amc_id#256,category_id#257,name#258,isin_growth#259,isin_dividend_payout#260,isin_dividend_reinvestment#261])\n         +- Join Inner, (code#201 = code#255)\n            :- Relation [code#201,nav_date#202,nav#203L,repurchase_price#204,sale_price#205] csv\n            +- Relation [code#255,amc_id#256,category_id#257,name#258,isin_growth#259,isin_dividend_payout#260,isin_dividend_reinvestment#261] csv\n"
     ]
    }
   ],
   "source": [
    "df_performance = spark.sql(\"select nav, nav_date from perf_data where nav IN \\\n",
    "                     (select nav from perf_data where nav_date = \\\n",
    "                           (select perf_data.nav_date from perf_data where nav_date = 2018-12-12))\").show()"
   ]
  },
  {
   "cell_type": "code",
   "execution_count": 76,
   "id": "6699341d",
   "metadata": {},
   "outputs": [
    {
     "ename": "SyntaxError",
     "evalue": "invalid syntax (2174162626.py, line 1)",
     "output_type": "error",
     "traceback": [
      "\u001b[0;36m  Input \u001b[0;32mIn [76]\u001b[0;36m\u001b[0m\n\u001b[0;31m    select nav from (select nav from perf_data where max(month(nav_date)))\u001b[0m\n\u001b[0m           ^\u001b[0m\n\u001b[0;31mSyntaxError\u001b[0m\u001b[0;31m:\u001b[0m invalid syntax\n"
     ]
    }
   ],
   "source": [
    "select nav from (select nav from perf_data where max(month(nav_date)))"
   ]
  },
  {
   "cell_type": "code",
   "execution_count": null,
   "id": "4ecee24e",
   "metadata": {},
   "outputs": [],
   "source": []
  }
 ],
 "metadata": {
  "kernelspec": {
   "display_name": "Python 3 (ipykernel)",
   "language": "python",
   "name": "python3"
  },
  "language_info": {
   "codemirror_mode": {
    "name": "ipython",
    "version": 3
   },
   "file_extension": ".py",
   "mimetype": "text/x-python",
   "name": "python",
   "nbconvert_exporter": "python",
   "pygments_lexer": "ipython3",
   "version": "3.9.13"
  }
 },
 "nbformat": 4,
 "nbformat_minor": 5
}
